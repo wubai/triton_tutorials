{
  "cells": [
    {
      "cell_type": "markdown",
      "metadata": {},
      "source": [
        "\n# Layer Normalization\nIn this tutorial, you will write a high-performance layer normalization\nkernel that runs faster than the PyTorch implementation.\n\nIn doing so, you will learn about:\n\n* Implementing backward pass in Triton.\n\n* Implementing parallel reduction in Triton.\n"
      ]
    },
    {
      "cell_type": "markdown",
      "metadata": {},
      "source": [
        "## Motivations\n\nThe *LayerNorm* operator was first introduced in [BA2016]_ as a way to improve the performance\nof sequential models (e.g., Transformers) or neural networks with small batch size.\nIt takes a vector $x$ as input and produces a vector $y$ of the same shape as output.\nThe normalization is performed by subtracting the mean and dividing by the standard deviation of $x$.\nAfter the normalization, a learnable linear transformation with weights $w$ and biases $b$ is applied.\nThe forward pass can be expressed as follows:\n\n\\begin{align}y = \\frac{ x - \\text{E}[x] }{ \\sqrt{\\text{Var}(x) + \\epsilon} } * w + b\\end{align}\n\nwhere $\\epsilon$ is a small constant added to the denominator for numerical stability.\nLet\u2019s first take a look at the forward pass implementation.\n\n"
      ]
    },
    {
      "cell_type": "code",
      "execution_count": null,
      "metadata": {
        "collapsed": false
      },
      "outputs": [],
      "source": [
        "import torch\n\nimport triton\nimport triton.language as tl\n\ntry:\n    # This is https://github.com/NVIDIA/apex, NOT the apex on PyPi, so it\n    # should not be added to extras_require in setup.py.\n    import apex\n    HAS_APEX = True\nexcept ModuleNotFoundError:\n    HAS_APEX = False\n\n\n@triton.jit\ndef _layer_norm_fwd_fused(\n    X,  # pointer to the input\n    Y,  # pointer to the output\n    W,  # pointer to the weights\n    B,  # pointer to the biases\n    Mean,  # pointer to the mean\n    Rstd,  # pointer to the 1/std\n    stride,  # how much to increase the pointer when moving by 1 row\n    N,  # number of columns in X\n    eps,  # epsilon to avoid division by zero\n    BLOCK_SIZE: tl.constexpr,\n):\n    # Map the program id to the row of X and Y it should compute.\n    row = tl.program_id(0)\n    Y += row * stride\n    X += row * stride\n    # Compute mean\n    mean = 0\n    _mean = tl.zeros([BLOCK_SIZE], dtype=tl.float32)\n    for off in range(0, N, BLOCK_SIZE):\n        cols = off + tl.arange(0, BLOCK_SIZE)\n        a = tl.load(X + cols, mask=cols < N, other=0.).to(tl.float32)\n        _mean += a\n    mean = tl.sum(_mean, axis=0) / N\n    # Compute variance\n    _var = tl.zeros([BLOCK_SIZE], dtype=tl.float32)\n    for off in range(0, N, BLOCK_SIZE):\n        cols = off + tl.arange(0, BLOCK_SIZE)\n        x = tl.load(X + cols, mask=cols < N, other=0.).to(tl.float32)\n        x = tl.where(cols < N, x - mean, 0.)\n        _var += x * x\n    var = tl.sum(_var, axis=0) / N\n    rstd = 1 / tl.sqrt(var + eps)\n    # Write mean / rstd\n    tl.store(Mean + row, mean)\n    tl.store(Rstd + row, rstd)\n    # Normalize and apply linear transformation\n    for off in range(0, N, BLOCK_SIZE):\n        cols = off + tl.arange(0, BLOCK_SIZE)\n        mask = cols < N\n        w = tl.load(W + cols, mask=mask)\n        b = tl.load(B + cols, mask=mask)\n        x = tl.load(X + cols, mask=mask, other=0.).to(tl.float32)\n        x_hat = (x - mean) * rstd\n        y = x_hat * w + b\n        # Write output\n        tl.store(Y + cols, y, mask=mask)"
      ]
    },
    {
      "cell_type": "markdown",
      "metadata": {},
      "source": [
        "## Backward pass\n\nThe backward pass for the layer normalization operator is a bit more involved than the forward pass.\nLet $\\hat{x}$ be the normalized inputs $\\frac{ x - \\text{E}[x] }{ \\sqrt{\\text{Var}(x) + \\epsilon} }$ before the linear transformation,\nthe Vector-Jacobian Products (VJP) $\\nabla_{x}$ of $x$ are given by:\n\n\\begin{align}\\nabla_{x} = \\frac{1}{\\sigma}\\Big( \\nabla_{y} \\odot w - \\underbrace{ \\big( \\frac{1}{N} \\hat{x} \\cdot (\\nabla_{y} \\odot w) \\big) }_{c_1} \\odot \\hat{x} - \\underbrace{ \\frac{1}{N} \\nabla_{y} \\cdot w }_{c_2} \\Big)\\end{align}\n\nwhere $\\odot$ denotes the element-wise multiplication, $\\cdot$ denotes the dot product, and $\\sigma$ is the standard deviation.\n$c_1$ and $c_2$ are intermediate constants that improve the readability of the following implementation.\n\nFor the weights $w$ and biases $b$, the VJPs $\\nabla_{w}$ and $\\nabla_{b}$ are more straightforward:\n\n\\begin{align}\\nabla_{w} = \\nabla_{y} \\odot \\hat{x} \\quad \\text{and} \\quad \\nabla_{b} = \\nabla_{y}\\end{align}\n\nSince the same weights $w$ and biases $b$ are used for all rows in the same batch, their gradients need to sum up.\nTo perform this step efficiently, we use a parallel reduction strategy: each kernel instance accumulates\npartial $\\nabla_{w}$ and $\\nabla_{b}$ across certain rows into one of $\\text{GROUP_SIZE_M}$ independent buffers.\nThese buffers stay in the L2 cache and then are further reduced by another function to compute the actual $\\nabla_{w}$ and $\\nabla_{b}$.\n\nLet the number of input rows $M = 4$ and $\\text{GROUP_SIZE_M} = 2$,\nhere's a diagram of the parallel reduction strategy for $\\nabla_{w}$ ($\\nabla_{b}$ is omitted for brevity):\n\n  .. image:: parallel_reduction.png\n\nIn Stage 1, the rows of X that have the same color share the same buffer and thus a lock is used to ensure that only one kernel instance writes to the buffer at a time.\nIn Stage 2, the buffers are further reduced to compute the final $\\nabla_{w}$ and $\\nabla_{b}$.\nIn the following implementation, Stage 1 is implemented by the function :code:`_layer_norm_bwd_dx_fused` and Stage 2 is implemented by the function :code:`_layer_norm_bwd_dwdb`.\n\n"
      ]
    },
    {
      "cell_type": "code",
      "execution_count": null,
      "metadata": {
        "collapsed": false
      },
      "outputs": [],
      "source": [
        "@triton.jit\ndef _layer_norm_bwd_dx_fused(DX,  # pointer to the input gradient\n                             DY,  # pointer to the output gradient\n                             DW,  # pointer to the partial sum of weights gradient\n                             DB,  # pointer to the partial sum of biases gradient\n                             X,  # pointer to the input\n                             W,  # pointer to the weights\n                             Mean,  # pointer to the mean\n                             Rstd,  # pointer to the 1/std\n                             Lock,  # pointer to the lock\n                             stride,  # how much to increase the pointer when moving by 1 row\n                             N,  # number of columns in X\n                             GROUP_SIZE_M: tl.constexpr, BLOCK_SIZE_N: tl.constexpr):\n    # Map the program id to the elements of X, DX, and DY it should compute.\n    row = tl.program_id(0)\n    cols = tl.arange(0, BLOCK_SIZE_N)\n    mask = cols < N\n    X += row * stride\n    DY += row * stride\n    DX += row * stride\n    # Offset locks and weights/biases gradient pointer for parallel reduction\n    lock_id = row % GROUP_SIZE_M\n    Lock += lock_id\n    Count = Lock + GROUP_SIZE_M\n    DW = DW + lock_id * N + cols\n    DB = DB + lock_id * N + cols\n    # Load data to SRAM\n    x = tl.load(X + cols, mask=mask, other=0).to(tl.float32)\n    dy = tl.load(DY + cols, mask=mask, other=0).to(tl.float32)\n    w = tl.load(W + cols, mask=mask).to(tl.float32)\n    mean = tl.load(Mean + row)\n    rstd = tl.load(Rstd + row)\n    # Compute dx\n    xhat = (x - mean) * rstd\n    wdy = w * dy\n    xhat = tl.where(mask, xhat, 0.)\n    wdy = tl.where(mask, wdy, 0.)\n    c1 = tl.sum(xhat * wdy, axis=0) / N\n    c2 = tl.sum(wdy, axis=0) / N\n    dx = (wdy - (xhat * c1 + c2)) * rstd\n    # Write dx\n    tl.store(DX + cols, dx, mask=mask)\n    # Accumulate partial sums for dw/db\n    partial_dw = (dy * xhat).to(w.dtype)\n    partial_db = (dy).to(w.dtype)\n    while tl.atomic_cas(Lock, 0, 1) == 1:\n        pass\n    count = tl.load(Count)\n    # First store doesn't accumulate\n    if count == 0:\n        tl.atomic_xchg(Count, 1)\n    else:\n        partial_dw += tl.load(DW, mask=mask)\n        partial_db += tl.load(DB, mask=mask)\n    tl.store(DW, partial_dw, mask=mask)\n    tl.store(DB, partial_db, mask=mask)\n    # Release the lock\n    tl.atomic_xchg(Lock, 0)\n\n\n@triton.jit\ndef _layer_norm_bwd_dwdb(DW,  # pointer to the partial sum of weights gradient\n                         DB,  # pointer to the partial sum of biases gradient\n                         FINAL_DW,  # pointer to the weights gradient\n                         FINAL_DB,  # pointer to the biases gradient\n                         M,  # GROUP_SIZE_M\n                         N,  # number of columns\n                         BLOCK_SIZE_M: tl.constexpr, BLOCK_SIZE_N: tl.constexpr):\n    # Map the program id to the elements of DW and DB it should compute.\n    pid = tl.program_id(0)\n    cols = pid * BLOCK_SIZE_N + tl.arange(0, BLOCK_SIZE_N)\n    dw = tl.zeros((BLOCK_SIZE_M, BLOCK_SIZE_N), dtype=tl.float32)\n    db = tl.zeros((BLOCK_SIZE_M, BLOCK_SIZE_N), dtype=tl.float32)\n    # Iterate through the rows of DW and DB to sum the partial sums.\n    for i in range(0, M, BLOCK_SIZE_M):\n        rows = i + tl.arange(0, BLOCK_SIZE_M)\n        mask = (rows[:, None] < M) & (cols[None, :] < N)\n        offs = rows[:, None] * N + cols[None, :]\n        dw += tl.load(DW + offs, mask=mask, other=0.)\n        db += tl.load(DB + offs, mask=mask, other=0.)\n    # Write the final sum to the output.\n    sum_dw = tl.sum(dw, axis=0)\n    sum_db = tl.sum(db, axis=0)\n    tl.store(FINAL_DW + cols, sum_dw, mask=cols < N)\n    tl.store(FINAL_DB + cols, sum_db, mask=cols < N)"
      ]
    },
    {
      "cell_type": "markdown",
      "metadata": {},
      "source": [
        "## Benchmark\n\nWe can now compare the performance of our kernel against that of PyTorch.\nHere we focus on inputs that have Less than 64KB per feature.\nSpecifically, one can set :code:`'mode': 'backward'` to benchmark the backward pass.\n\n"
      ]
    },
    {
      "cell_type": "code",
      "execution_count": null,
      "metadata": {
        "collapsed": false
      },
      "outputs": [],
      "source": [
        "class LayerNorm(torch.autograd.Function):\n\n    @staticmethod\n    def forward(ctx, x, normalized_shape, weight, bias, eps):\n        # allocate output\n        y = torch.empty_like(x)\n        # reshape input data into 2D tensor\n        x_arg = x.reshape(-1, x.shape[-1])\n        M, N = x_arg.shape\n        mean = torch.empty((M, ), dtype=torch.float32, device=x.device)\n        rstd = torch.empty((M, ), dtype=torch.float32, device=x.device)\n        # Less than 64KB per feature: enqueue fused kernel\n        MAX_FUSED_SIZE = 65536 // x.element_size()\n        BLOCK_SIZE = min(MAX_FUSED_SIZE, triton.next_power_of_2(N))\n        if N > BLOCK_SIZE:\n            raise RuntimeError(\"This layer norm doesn't support feature dim >= 64KB.\")\n        # heuristics for number of warps\n        num_warps = min(max(BLOCK_SIZE // 256, 1), 8)\n        # enqueue kernel\n        _layer_norm_fwd_fused[(M, )](  #\n            x_arg, y, weight, bias, mean, rstd,  #\n            x_arg.stride(0), N, eps,  #\n            BLOCK_SIZE=BLOCK_SIZE, num_warps=num_warps, num_ctas=1)\n        ctx.save_for_backward(x, weight, bias, mean, rstd)\n        ctx.BLOCK_SIZE = BLOCK_SIZE\n        ctx.num_warps = num_warps\n        ctx.eps = eps\n        return y\n\n    @staticmethod\n    def backward(ctx, dy):\n        x, w, b, m, v = ctx.saved_tensors\n        # heuristics for amount of parallel reduction stream for DW/DB\n        N = w.shape[0]\n        GROUP_SIZE_M = 64\n        if N <= 8192: GROUP_SIZE_M = 96\n        if N <= 4096: GROUP_SIZE_M = 128\n        if N <= 1024: GROUP_SIZE_M = 256\n        # allocate output\n        locks = torch.zeros(2 * GROUP_SIZE_M, dtype=torch.int32, device=w.device)\n        _dw = torch.zeros((GROUP_SIZE_M, N), dtype=x.dtype, device=w.device)\n        _db = torch.zeros((GROUP_SIZE_M, N), dtype=x.dtype, device=w.device)\n        dw = torch.empty((N, ), dtype=w.dtype, device=w.device)\n        db = torch.empty((N, ), dtype=w.dtype, device=w.device)\n        dx = torch.empty_like(dy)\n        # enqueue kernel using forward pass heuristics\n        # also compute partial sums for DW and DB\n        x_arg = x.reshape(-1, x.shape[-1])\n        M, N = x_arg.shape\n        _layer_norm_bwd_dx_fused[(M, )](  #\n            dx, dy, _dw, _db, x, w, m, v, locks,  #\n            x_arg.stride(0), N,  #\n            BLOCK_SIZE_N=ctx.BLOCK_SIZE,  #\n            GROUP_SIZE_M=GROUP_SIZE_M,  #\n            num_warps=ctx.num_warps)\n        grid = lambda meta: [triton.cdiv(N, meta['BLOCK_SIZE_N'])]\n        # accumulate partial sums in separate kernel\n        _layer_norm_bwd_dwdb[grid](\n            _dw, _db, dw, db, min(GROUP_SIZE_M, M), N,  #\n            BLOCK_SIZE_M=32,  #\n            BLOCK_SIZE_N=128, num_ctas=1)\n        return dx, None, dw, db, None\n\n\nlayer_norm = LayerNorm.apply\n\n\ndef test_layer_norm(M, N, dtype, eps=1e-5, device='cuda'):\n    # create data\n    x_shape = (M, N)\n    w_shape = (x_shape[-1], )\n    weight = torch.rand(w_shape, dtype=dtype, device=device, requires_grad=True)\n    bias = torch.rand(w_shape, dtype=dtype, device=device, requires_grad=True)\n    x = -2.3 + 0.5 * torch.randn(x_shape, dtype=dtype, device=device)\n    dy = .1 * torch.randn_like(x)\n    x.requires_grad_(True)\n    # forward pass\n    y_tri = layer_norm(x, w_shape, weight, bias, eps)\n    y_ref = torch.nn.functional.layer_norm(x, w_shape, weight, bias, eps).to(dtype)\n    # backward pass (triton)\n    y_tri.backward(dy, retain_graph=True)\n    dx_tri, dw_tri, db_tri = [_.grad.clone() for _ in [x, weight, bias]]\n    x.grad, weight.grad, bias.grad = None, None, None\n    # backward pass (torch)\n    y_ref.backward(dy, retain_graph=True)\n    dx_ref, dw_ref, db_ref = [_.grad.clone() for _ in [x, weight, bias]]\n    # compare\n    assert torch.allclose(y_tri, y_ref, atol=1e-2, rtol=0)\n    assert torch.allclose(dx_tri, dx_ref, atol=1e-2, rtol=0)\n    assert torch.allclose(db_tri, db_ref, atol=1e-2, rtol=0)\n    assert torch.allclose(dw_tri, dw_ref, atol=1e-2, rtol=0)\n\n\n@triton.testing.perf_report(\n    triton.testing.Benchmark(\n        x_names=['N'],\n        x_vals=[512 * i for i in range(2, 32)],\n        line_arg='provider',\n        line_vals=['triton', 'torch'] + (['apex'] if HAS_APEX else []),\n        line_names=['Triton', 'Torch'] + (['Apex'] if HAS_APEX else []),\n        styles=[('blue', '-'), ('green', '-'), ('orange', '-')],\n        ylabel='GB/s',\n        plot_name='layer-norm-backward',\n        args={'M': 4096, 'dtype': torch.float16, 'mode': 'backward'},\n    ))\ndef bench_layer_norm(M, N, dtype, provider, mode='backward', eps=1e-5, device='cuda'):\n    # create data\n    x_shape = (M, N)\n    w_shape = (x_shape[-1], )\n    weight = torch.rand(w_shape, dtype=dtype, device=device, requires_grad=True)\n    bias = torch.rand(w_shape, dtype=dtype, device=device, requires_grad=True)\n    x = -2.3 + 0.5 * torch.randn(x_shape, dtype=dtype, device=device)\n    dy = .1 * torch.randn_like(x)\n    x.requires_grad_(True)\n    quantiles = [0.5, 0.2, 0.8]\n\n    def y_fwd():\n\n        if provider == \"triton\":\n            return layer_norm(x, w_shape, weight, bias, eps)  # noqa: F811, E704\n\n        if provider == \"torch\":\n            return torch.nn.functional.layer_norm(x, w_shape, weight, bias, eps)  # noqa: F811, E704\n\n        if provider == \"apex\":\n            apex_layer_norm = (apex.normalization.FusedLayerNorm(w_shape).to(x.device).to(x.dtype))\n            return apex_layer_norm(x)  # noqa: F811, E704\n\n    # forward pass\n    if mode == 'forward':\n        gbps = lambda ms: 2 * x.numel() * x.element_size() * 1e-9 / (ms * 1e-3)\n        ms, min_ms, max_ms = triton.testing.do_bench(y_fwd, quantiles=quantiles, rep=500)\n    # backward pass\n    if mode == 'backward':\n        y = y_fwd()\n        gbps = lambda ms: 3 * x.numel() * x.element_size() * 1e-9 / (ms * 1e-3)  # noqa: F811, E704\n        ms, min_ms, max_ms = triton.testing.do_bench(lambda: y.backward(dy, retain_graph=True), quantiles=quantiles,\n                                                     grad_to_none=[x], rep=500)\n    return gbps(ms), gbps(max_ms), gbps(min_ms)\n\n\ntest_layer_norm(1151, 8192, torch.float16)\nbench_layer_norm.run(save_path='.', print_data=True)"
      ]
    },
    {
      "cell_type": "markdown",
      "metadata": {},
      "source": [
        "## References\n\n.. [BA2016] Jimmy Lei Ba and Jamie Ryan Kiros and Geoffrey E. Hinton, \"Layer Normalization\", Arxiv 2016\n\n"
      ]
    }
  ],
  "metadata": {
    "kernelspec": {
      "display_name": "Python 3",
      "language": "python",
      "name": "python3"
    },
    "language_info": {
      "codemirror_mode": {
        "name": "ipython",
        "version": 3
      },
      "file_extension": ".py",
      "mimetype": "text/x-python",
      "name": "python",
      "nbconvert_exporter": "python",
      "pygments_lexer": "ipython3",
      "version": "3.10.12"
    }
  },
  "nbformat": 4,
  "nbformat_minor": 0
}